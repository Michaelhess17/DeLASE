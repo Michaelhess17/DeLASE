from delase import DeLASE
import torch
import numpy as np

data = np.loadtxt("data/DataStorage_6000_2D_kinematics_clean.csv", delimiter=",")
num_subjects = 150
num_timesteps = 6000
data = data.reshape(data.shape[0], num_subjects, num_timesteps).swapaxes(0, 1).swapaxes(1, 2)
all_all_params = np.zeros(data.shape[0], dtype=object)

dl = DeLASE(
    data,
    n_delays=None,
    matrix_size=None,
    delay_interval=1,
    rank=None,
    rank_thresh=None,
    rank_explained_variance=None,
    lamb=0,
    dt=1/100,  # Assuming dt is 1/100 based on the original script
    N_time_bins=None,
    max_freq=None,
    max_unstable_freq=None,
    device=torch.device("cuda"),
    verbose=False
)